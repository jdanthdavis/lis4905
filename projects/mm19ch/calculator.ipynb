{
 "cells": [
  {
   "cell_type": "code",
   "execution_count": 1,
   "id": "343536bd",
   "metadata": {},
   "outputs": [
    {
     "name": "stdout",
     "output_type": "stream",
     "text": [
      "Tip calculator\n",
      "\n",
      "Program requirements\n",
      "Must use float data type for user input\n",
      "Must use round calculations to 2 decimal places\n",
      "Must forma currency with dollar sign and 2 decimal places\n"
     ]
    }
   ],
   "source": [
    "print(\"Tip calculator\")\n",
    "\n",
    "print(\"\\nProgram requirements\\n\"\n",
    "+ \"Must use float data type for user input\\n\"\n",
    "+ \"Must use round calculations to 2 decimal places\\n\"\n",
    "+ \"Must forma currency with dollar sign and 2 decimal places\")"
   ]
  },
  {
   "cell_type": "code",
   "execution_count": 2,
   "id": "883208b8",
   "metadata": {},
   "outputs": [
    {
     "name": "stdout",
     "output_type": "stream",
     "text": [
      "\n",
      "User input:\n",
      "Cost of meal: 1000\n",
      "Tax percent: 10\n",
      "Tip percent: 10\n",
      "Party number: 4\n"
     ]
    }
   ],
   "source": [
    "print(\"\\nUser input:\")\n",
    "meal_cost = float(input(\"Cost of meal: \"))\n",
    "tax_percent = float(input(\"Tax percent: \"))\n",
    "tip_percent = float(input(\"Tip percent: \"))\n",
    "people_num = float(input(\"Party number: \"))"
   ]
  },
  {
   "cell_type": "code",
   "execution_count": 3,
   "id": "f26e87b0",
   "metadata": {},
   "outputs": [],
   "source": [
    "tax_amount = round(meal_cost * (tax_percent / 100), 2)\n",
    "due_amount = round(meal_cost + tax_amount, 2)\n",
    "tip_amount = round((due_amount) * (tip_percent / 100), 2)\n",
    "total = round(meal_cost + tax_amount + tip_percent, 2)\n",
    "split = round(total / people_num, 2)"
   ]
  },
  {
   "cell_type": "code",
   "execution_count": 4,
   "id": "a8598f7b",
   "metadata": {},
   "outputs": [
    {
     "name": "stdout",
     "output_type": "stream",
     "text": [
      "\n",
      "Program output\n",
      "subtotal:\t $1,000.00\n",
      "Tax:\t\t $100.00\n",
      "Amount due:\t $1,100.00\n",
      "Gratutity:\t $110.00\n",
      "Total:\t\t $1,110.00\n",
      "Split (4.0):\t $277.50\n"
     ]
    }
   ],
   "source": [
    "print(\"\\nProgram output\")\n",
    "print(\"subtotal:\\t\", \"${0:,.2f}\".format(meal_cost))\n",
    "print(\"Tax:\\t\\t\", \"${0:,.2f}\".format(tax_amount))\n",
    "print(\"Amount due:\\t\",\"${0:,.2f}\".format(due_amount))\n",
    "print(\"Gratutity:\\t\", \"${0:,.2f}\".format(tip_amount))\n",
    "print(\"Total:\\t\\t\", \"${0:,.2f}\".format(total))\n",
    "print(\"Split \" +  \"(\" + str(people_num) + \"):\\t\", \"${0:,.2f}\".format(split))"
   ]
  },
  {
   "cell_type": "code",
   "execution_count": null,
   "id": "558a5919",
   "metadata": {},
   "outputs": [],
   "source": []
  }
 ],
 "metadata": {
  "kernelspec": {
   "display_name": "Python 3",
   "language": "python",
   "name": "python3"
  },
  "language_info": {
   "codemirror_mode": {
    "name": "ipython",
    "version": 3
   },
   "file_extension": ".py",
   "mimetype": "text/x-python",
   "name": "python",
   "nbconvert_exporter": "python",
   "pygments_lexer": "ipython3",
   "version": "3.8.8"
  }
 },
 "nbformat": 4,
 "nbformat_minor": 5
}
