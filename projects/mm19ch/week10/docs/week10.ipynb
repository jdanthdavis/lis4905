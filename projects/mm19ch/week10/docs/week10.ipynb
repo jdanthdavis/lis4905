{
 "cells": [
  {
   "cell_type": "code",
   "execution_count": 1,
   "id": "5be4550f",
   "metadata": {},
   "outputs": [],
   "source": [
    "import cv2 as cv\n",
    "import numpy as np\n",
    "import os as os\n",
    "from matplotlib import pyplot as plt"
   ]
  },
  {
   "cell_type": "code",
   "execution_count": 2,
   "id": "50b47b30",
   "metadata": {},
   "outputs": [],
   "source": [
    "def get_requirements():\n",
    "    print(\"OpenCV - computer vision library\")\n",
    "    print(\"\\nImage proccessing and manipulation\")\n",
    "    print(\"\\nImport libraries\")\n",
    "    print(\"\\nResearch how to install missing packages\")\n",
    "    print(\"\\nCreate at least 3 functions that are called by program\")\n",
    "    print(\"\\nMain(): calls at least 2 functions\")\n",
    "    print(\"\\nGet requirements displays requirements\")\n",
    "    print(\"\\nopencv() siaplsy the following data\")\n",
    "    print(\"\\nUse provided media files\")\n",
    "    print(\"\\nWhen running program\")\n",
    "    print(\"\\nDocumnet issues\")\n",
    "    print(\"\\nDocument solutions\")"
   ]
  },
  {
   "cell_type": "code",
   "execution_count": 3,
   "id": "d2d1bb07",
   "metadata": {
    "scrolled": true
   },
   "outputs": [],
   "source": [
    "def opencv():\n",
    "    img_cat = cv.imread('cat.jpg')\n",
    "    dimensions = img_cat.shape\n",
    "    \n",
    "    height = img_cat.shape[0]\n",
    "    width = img_cat.shape[1]\n",
    "    channels = img_cat.shape[2]\n",
    "    \n",
    "    print(\"\\nMetadata represent RGB channels\")\n",
    "    print('Dimensions ', dimensions)\n",
    "    print('Height ', height)\n",
    "    print('Width ', width)\n",
    "    print('Channels ', channels)\n",
    "    \n",
    "    cv.imshow('Cat1', img_cat)\n",
    "    \n",
    "    cv.waitKey(0)\n",
    "    \n",
    "    img_cat_large = cv.imread('cat_large.jpg')\n",
    "    \n",
    "    dv.imshow('Cat2', img_cat_large)\n",
    "    \n",
    "    resized_cat = rescaleFrame(img_cat_large)\n",
    "    cv.imshow('Cat resize', resized_cat)\n",
    "    cv.waitKey(0)\n",
    "    \n",
    "    vid_dog = cv.VideoCapture('dog.mp4')\n",
    "    \n",
    "    while True:\n",
    "        isTrue, frame = vid_dog.read()\n",
    "        \n",
    "        if type(frame) == type(none):\n",
    "            \n",
    "            frame_resize = rescaleFrame(frame)\n",
    "            \n",
    "            cv.imshow('Dog', frame)\n",
    "            cv.imshow('Dog Resized', frame_resized)\n",
    "            \n",
    "            if cv.waitKey(20) & 0xFF == ord('q'):\n",
    "                break\n",
    "                \n",
    "    vid_dog.release()\n",
    "    cv.destroyAllWindows()\n",
    "    \n",
    "    height = 480\n",
    "    width = 640\n",
    "    num_colors = 3\n",
    "    \n",
    "    blank_img = np.zeros((height, width, num_colors), dtype='uint8')\n",
    "    cv.imshow('Blank', blank_img)\n",
    "    \n",
    "    blank_img[:] = 255, 0, 0\n",
    "    cv.imshow('Blue', blank_img)\n",
    "    \n",
    "    blank_img[100:200, 300:400] = 0, 0, 255\n",
    "    cv.imshow('Blue w/ Red Square', blank_img)\n",
    "    \n",
    "    cv.rectangle(blank_img, (0, 0), (200, 200), (0, 255, 0), thickness=2)\n",
    "    cv.imshow('Rectangle', blank_img)\n",
    "    \n",
    "    cv.rectangle(blank_img, (0, 0), (200, 200),\n",
    "                (0, 255, 0), thickness=cv.FILLED)\n",
    "    cv.imshow('Rectangle Filled', blank_img)\n",
    "    \n",
    "    cv.rectangle(blank_img, (0, 0), (blank_img.shape[1] // 4, blank_img[0] //4),\n",
    "                (255, 255, 255), thickness=-1)\n",
    "    cv.imshow('Rectangle filled ratio', blank_img)\n",
    "    \n",
    "    cv.circle(blank_img, (blank_img.shape[1] // 2, blank_img.shape[0] // 2), 30,\n",
    "                (0, 0, 0), thickness=3)\n",
    "    cv.imshow('Circle', blank_img)\n",
    "    \n",
    "    cv.line(blank_img, (blank_img.shape[1], blank_img.shape[0]), (blank_img.shape[1] //2, blank_img[0] //2),\n",
    "                (255, 255, 255), thickness=1)\n",
    "    cv.imshow('Line', blank_img)\n",
    "    \n",
    "    cv.putText(blank_img, 'Hello World',\n",
    "              (blank_img.shape[1] // 2, blank_img.shape[0] // 2), cv.FONT_HERSHEY_SCRIPT_COMPLEX, 1.5, (0, 255, 0), thickness=2)\n",
    "    cv.imshow('Text', blank_img)\n",
    "    cv.waitKey(0)"
   ]
  },
  {
   "cell_type": "code",
   "execution_count": 4,
   "id": "58e36d35",
   "metadata": {},
   "outputs": [],
   "source": [
    "def rescaleFrame(frame, scale=.50):\n",
    "    width = int(frame.shape[1] * scale)\n",
    "    height = int(frame.shape[0] * scale)\n",
    "    dimensions = (width, height)\n",
    "    \n",
    "    return cv.resize(frame, dimensions, interpolation=cv.INTER_AREA)"
   ]
  },
  {
   "cell_type": "code",
   "execution_count": 5,
   "id": "1fa6c8fd",
   "metadata": {},
   "outputs": [],
   "source": [
    "def changeRes(width, height):\n",
    "    capture.set(3, width)\n",
    "    capture(4, height)"
   ]
  },
  {
   "cell_type": "code",
   "execution_count": 6,
   "id": "27dc9313",
   "metadata": {},
   "outputs": [],
   "source": [
    "def main():\n",
    "    get_requirements()\n",
    "    opencv()"
   ]
  },
  {
   "cell_type": "code",
   "execution_count": null,
   "id": "a5b580c2",
   "metadata": {},
   "outputs": [
    {
     "name": "stdout",
     "output_type": "stream",
     "text": [
      "OpenCV - computer vision library\n",
      "\n",
      "Image proccessing and manipulation\n",
      "\n",
      "Import libraries\n",
      "\n",
      "Research how to install missing packages\n",
      "\n",
      "Create at least 3 functions that are called by program\n",
      "\n",
      "Main(): calls at least 2 functions\n",
      "\n",
      "Get requirements displays requirements\n",
      "\n",
      "opencv() siaplsy the following data\n",
      "\n",
      "Use provided media files\n",
      "\n",
      "When running program\n",
      "\n",
      "Documnet issues\n",
      "\n",
      "Document solutions\n",
      "\n",
      "Metadata represent RGB channels\n",
      "Dimensions  (690, 640, 3)\n",
      "Height  690\n",
      "Width  640\n",
      "Channels  3\n"
     ]
    }
   ],
   "source": [
    "if __name__ == \"__main__\":\n",
    "    main()"
   ]
  }
 ],
 "metadata": {
  "kernelspec": {
   "display_name": "Python 3",
   "language": "python",
   "name": "python3"
  },
  "language_info": {
   "codemirror_mode": {
    "name": "ipython",
    "version": 3
   },
   "file_extension": ".py",
   "mimetype": "text/x-python",
   "name": "python",
   "nbconvert_exporter": "python",
   "pygments_lexer": "ipython3",
   "version": "3.8.8"
  }
 },
 "nbformat": 4,
 "nbformat_minor": 5
}
