{
 "cells": [
  {
   "cell_type": "code",
   "execution_count": null,
   "metadata": {},
   "outputs": [],
   "source": [
    "import pandas as pdr\n",
    "import tensorflow as tf\n",
    "import matplotlib.pyplot as plt"
   ]
  },
  {
   "cell_type": "code",
   "execution_count": null,
   "metadata": {},
   "outputs": [],
   "source": [
    "def get_requirements():\n",
    "    print(\"Artificial Intelligence\")\n",
    "    print(\"\\nProgram Requirements:\")\n",
    "    print(\"1. Automate data manipulation process.\")\n",
    "    print(\"2. Easily reproduce analysis on different datasets using similar fonts--saves time!\")\n",
    "    print(\"3. Import necessary libraries.\")\n",
    "    print(\"4. Research how to install any missing packages, if necessary\")\n",
    "    print(\"5. Create at least three functions that are called by the program\")\n",
    "    print(\"\\ta. main(): calls at least two other functions.\")\n",
    "    print(\"\\tb. get_requirements(): displays the program requirements.\")\n",
    "    print(\"\\tc. artificial_intelligence(): displays the following data.\")\n"
   ]
  },
  {
   "cell_type": "code",
   "execution_count": null,
   "metadata": {},
   "outputs": [],
   "source": [
    "def artifical_intelligence():\n",
    "    df = pdr.read_csv(\"pima-indians-diabetes.csv\")\n",
    "    print(\"1. Print indexes;\")\n",
    "    print(df.index)\n",
    "    print(\"\\n2. Print Columnds\")\n",
    "    print(df.columns)\n",
    "    print(\"\\n3. Print data frame:\\n\")\n",
    "    print(df)\n",
    "    print(\"\\n4. Print type:\")\n",
    "    print(type(df))\n",
    "    print(\"\\n5. Print attribute data types--object type represents strings (e.g. 'M' and 'F' in sex):\")\n",
    "    print(df.dtypes)\n",
    "    print(\"\\n6. Print values (truncated list), in array format:\")\n",
    "    print(df.values)\n",
    "    print(\"\\n7. Print index of all DataFrame column names:\")\n",
    "    print(df.columns)\n",
    "    print(\"\\n8. Print DataFrame info (i.e. , summary, similar to 'describe tablename;' in MySQL)\")\n",
    "    df.info()\n",
    "    print(\"\\n9. Print *only* number of DataFrame rows:\")\n",
    "    print(len(df))\n",
    "    print(\"\\n10. Print *only* number of DataFrame columns:\")\n",
    "    print(len(df.columns))\n",
    "    print(\"\\n11. Print number of DataFrame rows and columns:\")\n",
    "    \"\"\"\n",
    "    x = len(df)\n",
    "    y = len(df.columns)\n",
    "    print(f\"({x}, {y})\")\n",
    "    \"\"\"\n",
    "    print(df.shape)#tuple object\n",
    "    print(\"\\n12. Print number of dataframe elements (i.e., rows * columns):\")\n",
    "    print(df.size)\n",
    "    \n",
    "    print(\"\\n13. Cleaning Data:\")\n",
    "    all_cols = ['num_preg', 'gluc_concentrate', 'blood_press', 'triceps', 'insulin', 'bmi', 'pedigree', 'age', 'class']\n",
    "    cols_to_norm = ['num_preg', 'gluc_concentrate', 'blood_press', 'triceps', 'insulin', 'bmi', 'pedigree']\n",
    "    df[cols_to_norm] = df[cols_to_norm].apply(\n",
    "        lambda x: (x - x.min())/(x.max() - x.min()))\n",
    "    print(\"\\n14. Begin TensorFlow Analysis - create variables:\")\n",
    "    num_preg = tf.feature_column.numeric_column('num_preg')\n",
    "    plasma_gluc = tf.feature_column.numeric_column('gluc_concentrate')\n",
    "    dias_press = tf.feature_column.numeric_column('blood_press')\n",
    "    tricep = tf.feature_column.numeric_column('triceps')\n",
    "    insulin = tf.feature_column.numeric_column('insulin')\n",
    "    bmi = tf.feature_column.numeric_column('bmi')\n",
    "    diabetes_pedigree = tf.feature_column.numeric_column('pedigree')\n",
    "    age = tf.feature_column.numeric_column('age')\n",
    "    \n",
    "    print(\"\\n15. Create (generic) categorical features (used for analysis):\")\n",
    "    assigned_group = tf.feature_column.categorical_column_with_vocabulary_list(\n",
    "        'Group', ['A','B','C','D'])\n",
    "    df['age'].hist(bins=20)\n",
    "    plt.legend(['diabetes occurneces per age group'])\n",
    "    plt.show()\n",
    "    \n",
    "    print(\"\\n16. Combining features:\")\n",
    "    age_groups = tf.feature_column.bucketized_column(\n",
    "        age, boundaries=[20, 30, 40, 50, 60, 70, 80])\n",
    "    \n",
    "    feat_cols = [num_preg, plasma_gluc, dias_press, tricep, insulin, bmi, diabetes_pedigree, age_groups]\n",
    "    x_data = df.drop('class', axis=1)\n",
    "    labels = df['class']\n",
    "    from sklearn.model_selection import train_test_split\n",
    "    x_train, x_test, y_train, y_test = train_test_split(\n",
    "        x_data, labels, test_size=0.33, random_state=101)\n",
    "    \n",
    "    input_func = tf.compat.v1.estimator.inputs.pandas_input_fn(\n",
    "        x=x_train, y=y_train, batch_size=10, num_epochs=1000, shuffle=True)\n",
    "    model= tf.estimator.LinearClassifier(\n",
    "        feature_columns=feat_cols, n_classes=2)\n",
    "    model.train(input_fn=input_func, steps=1000)\n",
    "    \n",
    "    pred_input_func = tf.compat.v1.estimator.inputs.pandas_input_fn(x=x_test, batch_size=10, num_epochs=1, shuffle=False)\n",
    "    \n",
    "    predictions = model.predict(pred_input_func)\n",
    "    list(predictions)\n",
    "    \n",
    "    eval_input_func=tf.compat.v1.estimator.inputs.pandas_input_fn(\n",
    "        x=x_test, y=y_test, batch_size=10, num_epochs=1, shuffle=False)\n",
    "    results = model.evaluate(eval_input_func)\n",
    "    print(results)"
   ]
  },
  {
   "cell_type": "code",
   "execution_count": null,
   "metadata": {},
   "outputs": [],
   "source": [
    "def main():\n",
    "    get_requirements()\n",
    "    artifical_intelligence()\n"
   ]
  },
  {
   "cell_type": "code",
   "execution_count": null,
   "metadata": {},
   "outputs": [],
   "source": [
    "if __name__ == \"__main__\":\n",
    "    main()"
   ]
  },
  {
   "cell_type": "code",
   "execution_count": null,
   "metadata": {},
   "outputs": [],
   "source": []
  }
 ],
 "metadata": {
  "kernelspec": {
   "display_name": "Python 3",
   "language": "python",
   "name": "python3"
  },
  "language_info": {
   "codemirror_mode": {
    "name": "ipython",
    "version": 3
   },
   "file_extension": ".py",
   "mimetype": "text/x-python",
   "name": "python",
   "nbconvert_exporter": "python",
   "pygments_lexer": "ipython3",
   "version": "3.8.5"
  }
 },
 "nbformat": 4,
 "nbformat_minor": 4
}
