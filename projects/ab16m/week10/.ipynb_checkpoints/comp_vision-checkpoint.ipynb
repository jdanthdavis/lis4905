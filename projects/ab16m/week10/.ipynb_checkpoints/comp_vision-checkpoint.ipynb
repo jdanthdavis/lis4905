{
 "cells": [
  {
   "cell_type": "code",
   "execution_count": 1,
   "metadata": {},
   "outputs": [],
   "source": [
    "import cv2 as cv\n",
    "import numpy as np\n",
    "from matplotlib import pyplot as plt"
   ]
  },
  {
   "cell_type": "code",
   "execution_count": 2,
   "metadata": {},
   "outputs": [],
   "source": [
    "def get_requirements():\n",
    "    print(\"OpenCV - Computer Vision Library (Install this version: opencv-contrib-python)\")\n",
    "    print(\"\\nProgram Requirements:\\n\"\n",
    "         + \"1. Image Proccessing and Manipulation.\\n\"\n",
    "         + \"2. Import necessary libraries.\\n\"\n",
    "         + \"3. Research how to install any missing packages, if necessary.\\n\"\n",
    "         + \"4. Create at least three functions called by the program.\\n\"\n",
    "         +\"\\ta. main(): calls at least two other functions.\\n\"\n",
    "         +\"\\tb. get_requirements(): displays the program requirements\"\n",
    "         +\"\\tc. opencv(): displays the following data.\\n\"\n",
    "         +\"5. Use provided media files.\\n\"\n",
    "         +\"6. When running program:\\n\"\n",
    "         +\"\\ta. Document any issues.\\n\"\n",
    "         +\"\\tb. Document solutions attempted.\\n\"\n",
    "         +\"\\tc. Note: ***Research how to make it work using Jupyter Notebook!***\")    "
   ]
  },
  {
   "cell_type": "code",
   "execution_count": 3,
   "metadata": {},
   "outputs": [],
   "source": [
    "def opencv():\n",
    "    \n",
    "    img_cat = cv.imread('photos/cat.jpg')\n",
    "    dimmensions = img_cat.shape\n",
    "    height = img_cat.shape[0]\n",
    "    width = img_cat.shape[1]\n",
    "    channels = img_cat.shape[2]\n",
    "    cv.imshow('Cat1', img_cat)\n",
    "    cv.waitKey(3000)\n",
    "    cv.destroyWindow('Cat1')\n",
    "    #plt.imshow(img_cat)\n",
    "    #plt.show()\n",
    "    vid_dog = cv.VideoCapture('videos/dog.mp4')\n",
    "    while True:\n",
    "        isTrue, frame = vid_dog.read()\n",
    "        if type(frame) == type(None):\n",
    "            break\n",
    "        frame_resized = rescaleFrame(frame)\n",
    "        \n",
    "        cv.imshow('Dog', frame)\n",
    "        cv.imshow('Dog Resized', frame_resized)\n",
    "        if cv.waitKey(20) & 0xFF == ord('q'):\n",
    "            break\n",
    "    vid_dog.release()\n",
    "    cv.destroyAllWindows()\n",
    "    height = 480\n",
    "    width = 640\n",
    "    num_colors = 3\n",
    "    \n",
    "    blank_img = np.zeros((height, width, num_colors), dtype='uint8')\n",
    "    cv.imshow('Blank', blank_img)\n",
    "    \n",
    "    blank_img[:] = 255, 0, 0\n",
    "    cv.imshow('Blue', blank_img)\n",
    "    blank_img[100:200, 300:400] = 0, 0, 255\n",
    "    cv.imshow('Blue w/Red Square', blank_img)\n",
    "    \n",
    "    cv.rectangle(blank_img, (0, 0), (blank_img.shape[1] // 4, blank_img.shape[0] // 4), \n",
    "                 (255, 255, 255), thickness=-1)\n",
    "    cv.imshow('Rectangle Filled Ratio', blank_img)\n",
    "    \n",
    "    cv.circle(blank_img, (blank_img.shape[1] // 2 , blank_img.shape[0] // 2), 30,\n",
    "              (0,0,0), thickness=1)\n",
    "    cv.imshow('Line', blank_img)\n",
    "    \n",
    "    cv.putText(blank_img, 'Hello World!', \n",
    "              (blank_img.shape[1] // 2, blank_img.shape[0] // 2), cv.FONT_HERSHEY_SCRIPT_COMPLEX, 1.5, (0,255,0), thickness=2)\n",
    "    cv.imshow('Text', blank_img)\n",
    "    cv.waitKey(0)"
   ]
  },
  {
   "cell_type": "code",
   "execution_count": 4,
   "metadata": {},
   "outputs": [],
   "source": [
    "def rescaleFrame(frame, scale=.50):\n",
    "    width = int(frame.shape[1] * scale)\n",
    "    height = int(frame.shape[0] * scale)\n",
    "    dimensions = (width, height)\n",
    "    return cv.resize(frame, dimensions, interpolation=cv.INTER_AREA)"
   ]
  },
  {
   "cell_type": "code",
   "execution_count": 5,
   "metadata": {},
   "outputs": [],
   "source": [
    "def changeRes(width, height):\n",
    "    capture.set(3, width)\n",
    "    capture.set(4, height)"
   ]
  },
  {
   "cell_type": "code",
   "execution_count": null,
   "metadata": {},
   "outputs": [
    {
     "name": "stdout",
     "output_type": "stream",
     "text": [
      "OpenCV - Computer Vision Library (Install this version: opencv-contrib-python)\n",
      "\n",
      "Program Requirements:\n",
      "1. Image Proccessing and Manipulation.\n",
      "2. Import necessary libraries.\n",
      "3. Research how to install any missing packages, if necessary.\n",
      "4. Create at least three functions called by the program.\n",
      "\ta. main(): calls at least two other functions.\n",
      "\tb. get_requirements(): displays the program requirements\tc. opencv(): displays the following data.\n",
      "5. Use provided media files.\n",
      "6. When running program:\n",
      "\ta. Document any issues.\n",
      "\tb. Document solutions attempted.\n",
      "\tc. Note: ***Research how to make it work using Jupyter Notebook!***\n"
     ]
    }
   ],
   "source": [
    "def main():\n",
    "    get_requirements()\n",
    "    opencv()\n",
    "\n",
    "if __name__ == \"__main__\":\n",
    "    main()"
   ]
  },
  {
   "cell_type": "code",
   "execution_count": null,
   "metadata": {},
   "outputs": [],
   "source": []
  }
 ],
 "metadata": {
  "kernelspec": {
   "display_name": "Python 3",
   "language": "python",
   "name": "python3"
  },
  "language_info": {
   "codemirror_mode": {
    "name": "ipython",
    "version": 3
   },
   "file_extension": ".py",
   "mimetype": "text/x-python",
   "name": "python",
   "nbconvert_exporter": "python",
   "pygments_lexer": "ipython3",
   "version": "3.8.5"
  }
 },
 "nbformat": 4,
 "nbformat_minor": 4
}
