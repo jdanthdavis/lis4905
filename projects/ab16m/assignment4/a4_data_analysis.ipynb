{
 "cells": [
  {
   "cell_type": "code",
   "execution_count": 1,
   "metadata": {},
   "outputs": [],
   "source": [
    "import pandas as pdr\n",
    "import datetime\n",
    "#import matplotlib.pyplot as plt"
   ]
  },
  {
   "cell_type": "code",
   "execution_count": 2,
   "metadata": {},
   "outputs": [],
   "source": [
    "def get_requirements():\n",
    "    print(\"Developer: Alexander Boehm\")\n",
    "    print(\"\\nProgram Requirements:\")\n",
    "    print(\"\\n1. Automate data manipulation process.\")\n",
    "    print(\"\\n2. Easily reproduce analysis on different datasets using similar formats - saves time.\")\n",
    "    print(\"\\n3. Import neccessarry libraries.\")\n",
    "    print(\"\\n4. Research how to install and missing packages, if necessary.\")\n",
    "    print(\"\\n5. Create at least three functions that are called by the program:\")\n",
    "    print(\"\\n\\ta. main(): calls at least two other functions.\")\n",
    "    print(\"\\n\\ta. get_requirements(): display the program requirements.\")\n",
    "    print(\"\\n\\tb. data_analysis_2(): display the following data.\")"
   ]
  },
  {
   "cell_type": "code",
   "execution_count": 3,
   "metadata": {},
   "outputs": [
    {
     "name": "stdout",
     "output_type": "stream",
     "text": [
      "Developer: Alexander Boehm\n",
      "\n",
      "Program Requirements:\n",
      "\n",
      "1. Automate data manipulation process.\n",
      "\n",
      "2. Easily reproduce analysis on different datasets using similar formats - saves time.\n",
      "\n",
      "3. Import neccessarry libraries.\n",
      "\n",
      "4. Research how to install and missing packages, if necessary.\n",
      "\n",
      "5. Create at least three functions that are called by the program:\n",
      "\n",
      "\ta. main(): calls at least two other functions.\n",
      "\n",
      "\ta. get_requirements(): display the program requirements.\n",
      "\n",
      "\tb. data_analysis_2(): display the following data.\n"
     ]
    }
   ],
   "source": [
    "get_requirements()\n",
    "animal_survey = pdr.read_csv(\"animal_survey.csv\")"
   ]
  },
  {
   "cell_type": "code",
   "execution_count": 4,
   "metadata": {},
   "outputs": [
    {
     "name": "stdout",
     "output_type": "stream",
     "text": [
      "1. Print indexes;\n",
      "RangeIndex(start=0, stop=35549, step=1)\n",
      "\n",
      "2. Print Columnds\n",
      "Index(['rec_id', 'month', 'day', 'year', 'loc_id', 'spec_id', 'sex',\n",
      "       'hindft_len', 'weight'],\n",
      "      dtype='object')\n",
      "\n",
      "3. Print data frame:\n",
      "\n",
      "       rec_id  month  day  year  loc_id spec_id  sex  hindft_len  weight\n",
      "0           1      7   16  1977       2      NL    M        32.0     NaN\n",
      "1           2      7   16  1977       3      NL    M        33.0     NaN\n",
      "2           3      7   16  1977       2      DM    F        37.0     NaN\n",
      "3           4      7   16  1977       7      DM    M        36.0     NaN\n",
      "4           5      7   16  1977       3      DM    M        35.0     NaN\n",
      "...       ...    ...  ...   ...     ...     ...  ...         ...     ...\n",
      "35544   35545     12   31  2002      15      AH  NaN         NaN     NaN\n",
      "35545   35546     12   31  2002      15      AH  NaN         NaN     NaN\n",
      "35546   35547     12   31  2002      10      RM    F        15.0    14.0\n",
      "35547   35548     12   31  2002       7      DO    M        36.0    51.0\n",
      "35548   35549     12   31  2002       5     NaN  NaN         NaN     NaN\n",
      "\n",
      "[35549 rows x 9 columns]\n",
      "\n",
      "4. Print type:\n",
      "<class 'pandas.core.frame.DataFrame'>\n",
      "\n",
      "5. Print attribute data types--object type represents strings (e.g. 'M' and 'F' in sex):\n",
      "rec_id          int64\n",
      "month           int64\n",
      "day             int64\n",
      "year            int64\n",
      "loc_id          int64\n",
      "spec_id        object\n",
      "sex            object\n",
      "hindft_len    float64\n",
      "weight        float64\n",
      "dtype: object\n"
     ]
    }
   ],
   "source": [
    "print(\"1. Print indexes;\")\n",
    "print(animal_survey.index)\n",
    "print(\"\\n2. Print Columnds\")\n",
    "print(animal_survey.columns)\n",
    "print(\"\\n3. Print data frame:\\n\")\n",
    "print(animal_survey)\n",
    "print(\"\\n4. Print type:\")\n",
    "print(type(animal_survey))\n",
    "print(\"\\n5. Print attribute data types--object type represents strings (e.g. 'M' and 'F' in sex):\")\n",
    "print(animal_survey.dtypes)\n"
   ]
  },
  {
   "cell_type": "code",
   "execution_count": 5,
   "metadata": {},
   "outputs": [
    {
     "name": "stdout",
     "output_type": "stream",
     "text": [
      "\n",
      "6. Print values (truncated list), in array format:\n",
      "[[1 7 16 ... 'M' 32.0 nan]\n",
      " [2 7 16 ... 'M' 33.0 nan]\n",
      " [3 7 16 ... 'F' 37.0 nan]\n",
      " ...\n",
      " [35547 12 31 ... 'F' 15.0 14.0]\n",
      " [35548 12 31 ... 'M' 36.0 51.0]\n",
      " [35549 12 31 ... nan nan nan]]\n"
     ]
    }
   ],
   "source": [
    "print(\"\\n6. Print values (truncated list), in array format:\")\n",
    "print(animal_survey.values)"
   ]
  },
  {
   "cell_type": "code",
   "execution_count": 6,
   "metadata": {},
   "outputs": [
    {
     "name": "stdout",
     "output_type": "stream",
     "text": [
      "\n",
      "7. Print index of all DataFrame column names:\n",
      "Index(['rec_id', 'month', 'day', 'year', 'loc_id', 'spec_id', 'sex',\n",
      "       'hindft_len', 'weight'],\n",
      "      dtype='object')\n"
     ]
    }
   ],
   "source": [
    "print(\"\\n7. Print index of all DataFrame column names:\")\n",
    "print(animal_survey.columns)"
   ]
  },
  {
   "cell_type": "code",
   "execution_count": 7,
   "metadata": {},
   "outputs": [
    {
     "name": "stdout",
     "output_type": "stream",
     "text": [
      "\n",
      "Summary Statistics\n",
      "\n",
      "\n",
      "8. Print Dataframe info (i.e., summary, similar to 'describe tablename;' in MySQL):\n",
      "<class 'pandas.core.frame.DataFrame'>\n",
      "RangeIndex: 35549 entries, 0 to 35548\n",
      "Data columns (total 9 columns):\n",
      " #   Column      Non-Null Count  Dtype  \n",
      "---  ------      --------------  -----  \n",
      " 0   rec_id      35549 non-null  int64  \n",
      " 1   month       35549 non-null  int64  \n",
      " 2   day         35549 non-null  int64  \n",
      " 3   year        35549 non-null  int64  \n",
      " 4   loc_id      35549 non-null  int64  \n",
      " 5   spec_id     34786 non-null  object \n",
      " 6   sex         33038 non-null  object \n",
      " 7   hindft_len  31438 non-null  float64\n",
      " 8   weight      32283 non-null  float64\n",
      "dtypes: float64(2), int64(5), object(2)\n",
      "memory usage: 2.4+ MB\n"
     ]
    }
   ],
   "source": [
    "print(\"\\nSummary Statistics\\n\")\n",
    "print(\"\\n8. Print Dataframe info (i.e., summary, similar to 'describe tablename;' in MySQL):\")\n",
    "animal_survey.info()"
   ]
  },
  {
   "cell_type": "code",
   "execution_count": 8,
   "metadata": {},
   "outputs": [
    {
     "name": "stdout",
     "output_type": "stream",
     "text": [
      "\n",
      "9. Print *only* number of DataFrame rows:\n",
      "35549\n"
     ]
    }
   ],
   "source": [
    "print(\"\\n9. Print *only* number of DataFrame rows:\")\n",
    "print(len(animal_survey))"
   ]
  },
  {
   "cell_type": "code",
   "execution_count": 9,
   "metadata": {},
   "outputs": [
    {
     "name": "stdout",
     "output_type": "stream",
     "text": [
      "\n",
      "10. Print *only* number of DataFrame columns:\n",
      "9\n"
     ]
    }
   ],
   "source": [
    "print(\"\\n10. Print *only* number of DataFrame columns:\")\n",
    "print(len(animal_survey.columns))"
   ]
  },
  {
   "cell_type": "code",
   "execution_count": 10,
   "metadata": {},
   "outputs": [
    {
     "name": "stdout",
     "output_type": "stream",
     "text": [
      "\n",
      "11. Print number of DataFrame rows and columns:\n",
      "(35549, 9)\n"
     ]
    }
   ],
   "source": [
    "x = len(animal_survey)\n",
    "y = len(animal_survey.columns)\n",
    "print(\"\\n11. Print number of DataFrame rows and columns:\")\n",
    "print(f\"({x}, {y})\")"
   ]
  },
  {
   "cell_type": "code",
   "execution_count": 11,
   "metadata": {},
   "outputs": [
    {
     "name": "stdout",
     "output_type": "stream",
     "text": [
      "\n",
      "12. Print number of DataFrame elements (i.e., rows * columns):\n",
      "319941\n"
     ]
    }
   ],
   "source": [
    "print(\"\\n12. Print number of DataFrame elements (i.e., rows * columns):\")\n",
    "print(animal_survey.size)"
   ]
  },
  {
   "cell_type": "code",
   "execution_count": 12,
   "metadata": {},
   "outputs": [
    {
     "name": "stdout",
     "output_type": "stream",
     "text": [
      "\n",
      "13. Display first and last 5 species (why NaN?)\n",
      "0         NL\n",
      "1         NL\n",
      "2         DM\n",
      "3         DM\n",
      "4         DM\n",
      "        ... \n",
      "35544     AH\n",
      "35545     AH\n",
      "35546     RM\n",
      "35547     DO\n",
      "35548    NaN\n",
      "Name: spec_id, Length: 35549, dtype: object\n"
     ]
    }
   ],
   "source": [
    "print(\"\\n13. Display first and last 5 species (why NaN?)\")\n",
    "print(animal_survey[\"spec_id\"])"
   ]
  },
  {
   "cell_type": "code",
   "execution_count": 13,
   "metadata": {},
   "outputs": [
    {
     "name": "stdout",
     "output_type": "stream",
     "text": [
      "\n",
      "14. Dispaly all *unique* species:\n",
      "['NL' 'DM' 'PF' 'PE' 'DS' 'PP' 'SH' 'OT' 'DO' 'OX' 'SS' 'OL' 'RM' nan 'SA'\n",
      " 'PM' 'AH' 'DX' 'AB' 'CB' 'CM' 'CQ' 'RF' 'PC' 'PG' 'PH' 'PU' 'CV' 'UR'\n",
      " 'UP' 'ZL' 'UL' 'CS' 'SC' 'BA' 'SF' 'RO' 'AS' 'SO' 'PI' 'ST' 'CU' 'SU'\n",
      " 'RX' 'PB' 'PL' 'PX' 'CT' 'US']\n",
      "\n",
      "15. display total number of species caught:\n",
      "35549\n",
      "\n",
      "16. Display number of *unique* species caught:\n",
      "49\n"
     ]
    }
   ],
   "source": [
    "print(\"\\n14. Dispaly all *unique* species:\")\n",
    "print(pdr.unique(animal_survey['spec_id']))\n",
    "\n",
    "print(\"\\n15. display total number of species caught:\")\n",
    "print(len(animal_survey['spec_id']))\n",
    "\n",
    "print(\"\\n16. Display number of *unique* species caught:\")\n",
    "print(len(pdr.unique(animal_survey['spec_id'])))"
   ]
  },
  {
   "cell_type": "code",
   "execution_count": 14,
   "metadata": {},
   "outputs": [
    {
     "name": "stdout",
     "output_type": "stream",
     "text": [
      "\n",
      "17. Display number of *unique* species, excluding unidentified species:\n",
      "48\n"
     ]
    }
   ],
   "source": [
    "print(\"\\n17. Display number of *unique* species, excluding unidentified species:\")\n",
    "print(animal_survey['spec_id'].nunique())"
   ]
  },
  {
   "cell_type": "code",
   "execution_count": 15,
   "metadata": {},
   "outputs": [
    {
     "name": "stdout",
     "output_type": "stream",
     "text": [
      "\n",
      "18. Display summary statistics of animal weights--assign to variable, print variable:\n",
      "count    32283.000000\n",
      "mean        42.672428\n",
      "std         36.631259\n",
      "min          4.000000\n",
      "25%         20.000000\n",
      "50%         37.000000\n",
      "75%         48.000000\n",
      "max        280.000000\n",
      "Name: weight, dtype: float64\n"
     ]
    }
   ],
   "source": [
    "print(\"\\n18. Display summary statistics of animal weights--assign to variable, print variable:\")\n",
    "sum_weight = animal_survey['weight'].describe()\n",
    "print(sum_weight)"
   ]
  },
  {
   "cell_type": "code",
   "execution_count": 16,
   "metadata": {},
   "outputs": [
    {
     "name": "stdout",
     "output_type": "stream",
     "text": [
      "\n",
      "Display individual aggregate weight metrics (i.e., min, max, mean, std, count):\n",
      "min: 4.0\n",
      "max: 280.0\n",
      "mean: 42.672428212991356\n",
      "std: 36.63125947458399\n",
      "count: 32283\n"
     ]
    }
   ],
   "source": [
    "print(\"\\nDisplay individual aggregate weight metrics (i.e., min, max, mean, std, count):\")\n",
    "print(f\"min: {animal_survey['weight'].min()}\")\n",
    "print(f\"max: {animal_survey['weight'].max()}\")\n",
    "print(f\"mean: {animal_survey['weight'].mean()}\")\n",
    "print(f\"std: {animal_survey['weight'].std()}\")\n",
    "print(f\"count: {animal_survey['weight'].count()}\")"
   ]
  },
  {
   "cell_type": "code",
   "execution_count": 17,
   "metadata": {},
   "outputs": [
    {
     "name": "stdout",
     "output_type": "stream",
     "text": [
      "\n",
      "20. Display mean weight, rounded to two decimal places:\n",
      "mean: 42.67\n"
     ]
    }
   ],
   "source": [
    "print(\"\\n20. Display mean weight, rounded to two decimal places:\")\n",
    "print(f\"mean: {animal_survey['weight'].mean():.2f}\")"
   ]
  },
  {
   "cell_type": "code",
   "execution_count": 18,
   "metadata": {},
   "outputs": [
    {
     "data": {
      "text/plain": [
       "\"\\nthisFilter = animal_survey['sex']=='M'\\nmaleDF = animal_survey.where(thisFilter)\\nMW = maleDF['weight'].mean()\\n\""
      ]
     },
     "execution_count": 18,
     "metadata": {},
     "output_type": "execute_result"
    }
   ],
   "source": [
    "\"\"\"\n",
    "thisFilter = animal_survey['sex']=='M'\n",
    "maleDF = animal_survey.where(thisFilter)\n",
    "MW = maleDF['weight'].mean()\n",
    "\"\"\""
   ]
  },
  {
   "cell_type": "code",
   "execution_count": 19,
   "metadata": {},
   "outputs": [
    {
     "data": {
      "text/plain": [
       "\"\\nthisFilterF = animal_survey['sex']=='F'\\nfemDF = animal_survey.where(thisFilterF)\\nFW = femDF['weight'].mean()\\n\""
      ]
     },
     "execution_count": 19,
     "metadata": {},
     "output_type": "execute_result"
    }
   ],
   "source": [
    "\"\"\"\n",
    "thisFilterF = animal_survey['sex']=='F'\n",
    "femDF = animal_survey.where(thisFilterF)\n",
    "FW = femDF['weight'].mean()\n",
    "\"\"\""
   ]
  },
  {
   "cell_type": "code",
   "execution_count": 20,
   "metadata": {},
   "outputs": [
    {
     "data": {
      "text/plain": [
       "'\\nprint(\"sex\")\\nprint(f\"F\\t{FW}\")\\nprint(f\"M\\t{MW}\")\\n'"
      ]
     },
     "execution_count": 20,
     "metadata": {},
     "output_type": "execute_result"
    }
   ],
   "source": [
    "\"\"\"\n",
    "print(\"sex\")\n",
    "print(f\"F\\t{FW}\")\n",
    "print(f\"M\\t{MW}\")\n",
    "\"\"\"\n",
    "#print(f\"{type}\")"
   ]
  },
  {
   "cell_type": "code",
   "execution_count": 21,
   "metadata": {},
   "outputs": [
    {
     "name": "stdout",
     "output_type": "stream",
     "text": [
      "\n",
      "21. Groupby one column (sex), and display mean of only *one* specific column in group (weight):\n",
      "sex\n",
      "F    42.170555\n",
      "M    42.995379\n",
      "Name: weight, dtype: float64\n"
     ]
    }
   ],
   "source": [
    "print(\"\\n21. Groupby one column (sex), and display mean of only *one* specific column in group (weight):\")\n",
    "print(animal_survey.groupby('sex')['weight'].mean())"
   ]
  },
  {
   "cell_type": "code",
   "execution_count": 22,
   "metadata": {},
   "outputs": [
    {
     "name": "stdout",
     "output_type": "stream",
     "text": [
      "\n",
      "22. Display number of records per species:\n",
      "spec_id\n",
      "AB      303\n",
      "AH      437\n",
      "AS        2\n",
      "BA       46\n",
      "CB       50\n",
      "CM       13\n",
      "CQ       16\n",
      "CS        1\n",
      "CT        1\n",
      "CU        1\n",
      "CV        1\n",
      "DM    10596\n",
      "DO     3027\n",
      "DS     2504\n",
      "DX       40\n",
      "NL     1252\n",
      "OL     1006\n",
      "OT     2249\n",
      "OX       12\n",
      "PB     2891\n",
      "PC       39\n",
      "PE     1299\n",
      "PF     1597\n",
      "PG        8\n",
      "PH       32\n",
      "PI        9\n",
      "PL       36\n",
      "PM      899\n",
      "PP     3123\n",
      "PU        5\n",
      "PX        6\n",
      "RF       75\n",
      "RM     2609\n",
      "RO        8\n",
      "RX        2\n",
      "SA       75\n",
      "SC        1\n",
      "SF       43\n",
      "SH      147\n",
      "SO       43\n",
      "SS      248\n",
      "ST        1\n",
      "SU        5\n",
      "UL        4\n",
      "UP        8\n",
      "UR       10\n",
      "US        4\n",
      "ZL        2\n",
      "Name: rec_id, dtype: int64\n"
     ]
    }
   ],
   "source": [
    "print(\"\\n22. Display number of records per species:\")\n",
    "print(animal_survey.groupby('spec_id')['rec_id'].nunique())"
   ]
  },
  {
   "cell_type": "code",
   "execution_count": 23,
   "metadata": {},
   "outputs": [
    {
     "name": "stdout",
     "output_type": "stream",
     "text": [
      "\n",
      "23. Display number of records per specific species(PF):\n",
      "1597\n"
     ]
    }
   ],
   "source": [
    "tempD = animal_survey.groupby('spec_id')['rec_id'].nunique()\n",
    "print(\"\\n23. Display number of records per specific species(PF):\")\n",
    "print(tempD.loc['PF'])"
   ]
  },
  {
   "cell_type": "code",
   "execution_count": 24,
   "metadata": {},
   "outputs": [
    {
     "name": "stdout",
     "output_type": "stream",
     "text": [
      "\n",
      "24. Display bar chart of number of records per species, include title:\n"
     ]
    },
    {
     "data": {
      "image/png": "[encoded data removed]",
      "text/plain": [
       "<Figure size 432x288 with 1 Axes>"
      ]
     },
     "metadata": {
      "needs_background": "light"
     },
     "output_type": "display_data"
    }
   ],
   "source": [
    "print(\"\\n24. Display bar chart of number of records per species, include title:\")\n",
    "ax = tempD.plot.bar(x='spec_id', y='Total Per Species',title='Total Per Species')"
   ]
  },
  {
   "cell_type": "code",
   "execution_count": 25,
   "metadata": {},
   "outputs": [],
   "source": [
    "TempDTwo = animal_survey.groupby('loc_id')['rec_id'].nunique()"
   ]
  },
  {
   "cell_type": "code",
   "execution_count": 26,
   "metadata": {},
   "outputs": [
    {
     "name": "stdout",
     "output_type": "stream",
     "text": [
      "25. Display bar chart of how many unique species recorded from each location, excluding missing values, include title:\n"
     ]
    },
    {
     "data": {
      "image/png": "[encoded data removed]",
      "text/plain": [
       "<Figure size 432x288 with 1 Axes>"
      ]
     },
     "metadata": {
      "needs_background": "light"
     },
     "output_type": "display_data"
    }
   ],
   "source": [
    "print(\"25. Display bar chart of how many unique species recorded from each location, excluding missing values, include title:\")\n",
    "ax = TempDTwo.plot.bar(x='loc_id', y='total unique speciers per location',title='total unique speciers per location')"
   ]
  },
  {
   "cell_type": "code",
   "execution_count": null,
   "metadata": {},
   "outputs": [],
   "source": []
  }
 ],
 "metadata": {
  "kernelspec": {
   "display_name": "Python 3",
   "language": "python",
   "name": "python3"
  },
  "language_info": {
   "codemirror_mode": {
    "name": "ipython",
    "version": 3
   },
   "file_extension": ".py",
   "mimetype": "text/x-python",
   "name": "python",
   "nbconvert_exporter": "python",
   "pygments_lexer": "ipython3",
   "version": "3.8.5"
  }
 },
 "nbformat": 4,
 "nbformat_minor": 4
}
