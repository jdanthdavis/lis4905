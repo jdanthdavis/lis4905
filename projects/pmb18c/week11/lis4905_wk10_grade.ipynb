{
 "cells": [
  {
   "cell_type": "code",
   "execution_count": 1,
   "id": "1670c366",
   "metadata": {},
   "outputs": [
    {
     "name": "stdout",
     "output_type": "stream",
     "text": [
      "Create a Python program based upon the following requirements: \n",
      "1. Use ***all*** four intrinsic Python Data Structures: List, Tuple, Set, Dictionary2. Randomly assign grades of 'S' or 'U' \n",
      "(satisfactory or unsatisfactory) to each DIS member.\n",
      "3. Display code and results to your Bitbucket repo.\n",
      "\n",
      "Here are the grades in a List:\n",
      "[('Justin Davis', 'S'), ('Philip Bowman', 'S'), ('Sebastian Angel-Riano', 'U'), ('Alexander Boehm', 'S'), ('Andrew Vargas', 'U'), ('Rachel Hester', 'S'), ('Mitchell Mujwit', 'S'), ('Bryan Humphreies', 'S')]\n",
      "\n",
      "Here are the grades in a Tuple:\n",
      "(('Justin Davis', 'S'), ('Philip Bowman', 'S'), ('Sebastian Angel-Riano', 'U'), ('Alexander Boehm', 'S'), ('Andrew Vargas', 'U'), ('Rachel Hester', 'S'), ('Mitchell Mujwit', 'S'), ('Bryan Humphreies', 'S'))\n",
      "\n",
      "Here are the grades in a Set: \n",
      "{('Justin Davis', 'S'), ('Rachel Hester', 'S'), ('Andrew Vargas', 'U'), ('Bryan Humphreies', 'S'), ('Alexander Boehm', 'S'), ('Sebastian Angel-Riano', 'U'), ('Mitchell Mujwit', 'S'), ('Philip Bowman', 'S')}\n",
      "\n",
      "Here are the grades in a Dictionary: \n",
      "{'Justin Davis': 'S', 'Philip Bowman': 'S', 'Sebastian Angel-Riano': 'U', 'Alexander Boehm': 'S', 'Andrew Vargas': 'U', 'Rachel Hester': 'S', 'Mitchell Mujwit': 'S', 'Bryan Humphreies': 'S'}\n"
     ]
    }
   ],
   "source": [
    "import random\n",
    "\n",
    "def get_requirements():\n",
    "    print(\"Create a Python program based upon the following requirements: \")\n",
    "    print(\"1. Use ***all*** four intrinsic Python Data Structures: List, Tuple, Set, Dictionary\"\n",
    "        + \"2. Randomly assign grades of \\'S' or \\'U' \\n(satisfactory or unsatisfactory) to each DIS member.\\n\"\n",
    "        + \"3. Display code and results to your Bitbucket repo.\\n\")\n",
    "\n",
    "def get_grades():\n",
    "    names = [\n",
    "        'Justin Davis', \n",
    "        'Philip Bowman',\n",
    "        'Sebastian Angel-Riano', \n",
    "        'Alexander Boehm', \n",
    "        'Andrew Vargas', \n",
    "        'Rachel Hester', \n",
    "        'Mitchell Mujwit',\n",
    "        'Bryan Humphreies']\n",
    "\n",
    "    scores = ['S', 'U']\n",
    "\n",
    "    print(\"Here are the grades in a List:\")\n",
    "    x = [(i,random.choice(scores)) for i in names]\n",
    "    print(x)\n",
    "\n",
    "    print(\"\\nHere are the grades in a Tuple:\")\n",
    "    print(tuple(x))\n",
    "\n",
    "    print(\"\\nHere are the grades in a Set: \")\n",
    "    s=set(x)\n",
    "    print(s)\n",
    "\n",
    "    print(\"\\nHere are the grades in a Dictionary: \")\n",
    "    tuple_as_dict = dict(tuple(x))\n",
    "\n",
    "    print(tuple_as_dict)\n",
    "\n",
    "get_requirements();\n",
    "get_grades();"
   ]
  }
 ],
 "metadata": {
  "kernelspec": {
   "display_name": "Python 3",
   "language": "python",
   "name": "python3"
  },
  "language_info": {
   "codemirror_mode": {
    "name": "ipython",
    "version": 3
   },
   "file_extension": ".py",
   "mimetype": "text/x-python",
   "name": "python",
   "nbconvert_exporter": "python",
   "pygments_lexer": "ipython3",
   "version": "3.8.8"
  }
 },
 "nbformat": 4,
 "nbformat_minor": 5
}
