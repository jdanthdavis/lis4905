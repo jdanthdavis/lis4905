{
 "cells": [
  {
   "cell_type": "markdown",
   "id": "2b39b436",
   "metadata": {},
   "source": [
    "### Tip calculator\n",
    "\n",
    "**Dev: Sebastian Angel-Riano**\n",
    "\n",
    "**Course: LIS4905**\n",
    "\n",
    "**Semester: Summer 2021**\n",
    "\n",
    "**Program Requirements:**\n",
    "1. Must use float data type for user input except party number\n",
    "2. Must round calculations to two decimal places.\n",
    "3. Must format currency with dollar sign and two decimal places\n"
   ]
  },
  {
   "cell_type": "code",
   "execution_count": 1,
   "id": "a1e9d9bf",
   "metadata": {},
   "outputs": [
    {
     "name": "stdout",
     "output_type": "stream",
     "text": [
      "\n",
      "User Input:\n",
      "Cost of meal: 69\n",
      "Tax percent: 7\n",
      "Tip percent: 20\n",
      "Party number: 3\n"
     ]
    }
   ],
   "source": [
    "print(\"\\nUser Input:\")\n",
    "meal_cost = float(input( \"Cost of meal: \"))\n",
    "tax_percent = float(input( \"Tax percent: \"))\n",
    "tip_percent = float(input( \"Tip percent: \"))\n",
    "people_num = int(input( \"Party number: \"))"
   ]
  },
  {
   "cell_type": "code",
   "execution_count": 2,
   "id": "774c48ec",
   "metadata": {},
   "outputs": [],
   "source": [
    "#Calculate tax, tip and total amount\n",
    "tax_amount = round(meal_cost * (tax_percent / 100), 2) # convert to percentage\n",
    "due_amount = round(meal_cost + tax_amount, 2)\n",
    "tip_amount = round((due_amount) * (tip_percent / 100), 2) #percentage of tax\n",
    "total = round(meal_cost + tax_amount + tip_amount, 2)\n",
    "split = round(total / people_num, 2)"
   ]
  },
  {
   "cell_type": "code",
   "execution_count": 3,
   "id": "47e33ea3",
   "metadata": {},
   "outputs": [
    {
     "name": "stdout",
     "output_type": "stream",
     "text": [
      "\n",
      "Program Output:\n",
      "Subtotal:\t $69.00\n",
      "Tax:\t\t $4.83\n",
      "Amount Due:\t $73.83\n",
      "Gratituy:\t $14.77\n",
      "Total:\t\t $88.60\n",
      "Split (3):\t $29.53\n"
     ]
    }
   ],
   "source": [
    "#display results\n",
    "print(\"\\nProgram Output:\")\n",
    "print(\"Subtotal:\\t\", \"${0:,.2f}\".format(meal_cost))\n",
    "print(\"Tax:\\t\\t\", \"${0:,.2f}\".format(tax_amount))\n",
    "print(\"Amount Due:\\t\", \"${0:,.2f}\".format(due_amount))\n",
    "print(\"Gratituy:\\t\", \"${0:,.2f}\".format(tip_amount))\n",
    "print(\"Total:\\t\\t\", \"${0:,.2f}\".format(total))\n",
    "print(\"Split \" + \"(\" + str(people_num) + \"):\\t\", \"${0:,.2f}\".format(split))"
   ]
  }
 ],
 "metadata": {
  "kernelspec": {
   "display_name": "Python 3",
   "language": "python",
   "name": "python3"
  },
  "language_info": {
   "codemirror_mode": {
    "name": "ipython",
    "version": 3
   },
   "file_extension": ".py",
   "mimetype": "text/x-python",
   "name": "python",
   "nbconvert_exporter": "python",
   "pygments_lexer": "ipython3",
   "version": "3.8.8"
  }
 },
 "nbformat": 4,
 "nbformat_minor": 5
}
