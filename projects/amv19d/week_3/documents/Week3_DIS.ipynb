{
 "cells": [
  {
   "cell_type": "code",
   "execution_count": 2,
   "metadata": {},
   "outputs": [],
   "source": [
    "import pandas_datareader.data as web\n",
    "import pandas as pd\n",
    "import datetime"
   ]
  },
  {
   "cell_type": "code",
   "execution_count": 3,
   "metadata": {},
   "outputs": [],
   "source": [
    "df_gme = web.DataReader('GME', 'yahoo', start='2010-01-01', end='2021-05-31')\n",
    "#df_gme = df_gme.reset_index()"
   ]
  },
  {
   "cell_type": "code",
   "execution_count": 11,
   "metadata": {},
   "outputs": [
    {
     "name": "stdout",
     "output_type": "stream",
     "text": [
      "Print the number of records\n",
      "2871\n"
     ]
    }
   ],
   "source": [
    "print('Print the number of records')\n",
    "print(df_gme.shape[0])"
   ]
  },
  {
   "cell_type": "code",
   "execution_count": 5,
   "metadata": {},
   "outputs": [
    {
     "name": "stdout",
     "output_type": "stream",
     "text": [
      "Print columns\n",
      "Index(['High', 'Low', 'Open', 'Close', 'Volume', 'Adj Close'], dtype='object')\n"
     ]
    }
   ],
   "source": [
    "print(\"Print columns\")\n",
    "print(df_gme.columns)"
   ]
  },
  {
   "cell_type": "code",
   "execution_count": 103,
   "metadata": {},
   "outputs": [
    {
     "name": "stdout",
     "output_type": "stream",
     "text": [
      "Print data frame\n",
      "                  High         Low        Open       Close      Volume  \\\n",
      "Date                                                                     \n",
      "2010-01-04   22.950001   22.000000   22.070000   22.900000   6675700.0   \n",
      "2010-01-05   23.740000   22.900000   22.910000   23.520000   5317400.0   \n",
      "2010-01-06   24.100000   23.219999   23.459999   24.030001   5367800.0   \n",
      "2010-01-07   21.170000   19.420000   20.010000   20.459999  41190300.0   \n",
      "2010-01-08   21.230000   20.230000   20.639999   20.290001  11968100.0   \n",
      "...                ...         ...         ...         ...         ...   \n",
      "2021-05-24  188.460007  173.350006  175.850006  180.009995   4664300.0   \n",
      "2021-05-25  217.110001  181.000000  181.000000  209.429993  14887500.0   \n",
      "2021-05-26  248.479996  225.550003  229.000000  242.559998  21119900.0   \n",
      "2021-05-27  264.000000  227.000000  229.800003  254.130005  15526300.0   \n",
      "2021-05-28  268.799988  221.429993  262.970001  222.000000  11722800.0   \n",
      "\n",
      "             Adj Close  \n",
      "Date                    \n",
      "2010-01-04   15.418571  \n",
      "2010-01-05   15.836020  \n",
      "2010-01-06   16.179401  \n",
      "2010-01-07   13.775718  \n",
      "2010-01-08   13.661260  \n",
      "...                ...  \n",
      "2021-05-24  180.009995  \n",
      "2021-05-25  209.429993  \n",
      "2021-05-26  242.559998  \n",
      "2021-05-27  254.130005  \n",
      "2021-05-28  222.000000  \n",
      "\n",
      "[2871 rows x 6 columns]\n"
     ]
    }
   ],
   "source": [
    "print(\"Print data frame\")\n",
    "print(df_gme)"
   ]
  },
  {
   "cell_type": "code",
   "execution_count": 104,
   "metadata": {},
   "outputs": [
    {
     "name": "stdout",
     "output_type": "stream",
     "text": [
      "Print first 8 rows\n",
      "                 High        Low       Open      Close      Volume  Adj Close\n",
      "Date                                                                         \n",
      "2010-01-04  22.950001  22.000000  22.070000  22.900000   6675700.0  15.418571\n",
      "2010-01-05  23.740000  22.900000  22.910000  23.520000   5317400.0  15.836020\n",
      "2010-01-06  24.100000  23.219999  23.459999  24.030001   5367800.0  16.179401\n",
      "2010-01-07  21.170000  19.420000  20.010000  20.459999  41190300.0  13.775718\n",
      "2010-01-08  21.230000  20.230000  20.639999  20.290001  11968100.0  13.661260\n",
      "2010-01-11  20.590000  20.110001  20.540001  20.320000   7021300.0  13.681459\n",
      "2010-01-12  20.799999  20.299999  20.660000  20.770000   7121500.0  13.984444\n",
      "2010-01-13  20.900000  20.620001  20.830000  20.790001   4446900.0  13.997910\n"
     ]
    }
   ],
   "source": [
    "print(\"Print first 8 rows\")\n",
    "print(df_gme.head(8))"
   ]
  },
  {
   "cell_type": "code",
   "execution_count": 105,
   "metadata": {},
   "outputs": [
    {
     "name": "stdout",
     "output_type": "stream",
     "text": [
      "Print last 6 rows\n",
      "                  High         Low        Open       Close      Volume  \\\n",
      "Date                                                                     \n",
      "2021-05-21  179.240005  170.330002  171.000000  176.789993   3648400.0   \n",
      "2021-05-24  188.460007  173.350006  175.850006  180.009995   4664300.0   \n",
      "2021-05-25  217.110001  181.000000  181.000000  209.429993  14887500.0   \n",
      "2021-05-26  248.479996  225.550003  229.000000  242.559998  21119900.0   \n",
      "2021-05-27  264.000000  227.000000  229.800003  254.130005  15526300.0   \n",
      "2021-05-28  268.799988  221.429993  262.970001  222.000000  11722800.0   \n",
      "\n",
      "             Adj Close  \n",
      "Date                    \n",
      "2021-05-21  176.789993  \n",
      "2021-05-24  180.009995  \n",
      "2021-05-25  209.429993  \n",
      "2021-05-26  242.559998  \n",
      "2021-05-27  254.130005  \n",
      "2021-05-28  222.000000  \n"
     ]
    }
   ],
   "source": [
    "print(\"Print last 6 rows\")\n",
    "print(df_gme.tail(6))"
   ]
  },
  {
   "cell_type": "code",
   "execution_count": 106,
   "metadata": {},
   "outputs": [
    {
     "name": "stdout",
     "output_type": "stream",
     "text": [
      "Display 3 graphs\n"
     ]
    }
   ],
   "source": [
    "print(\"Display 3 graphs\")"
   ]
  },
  {
   "cell_type": "code",
   "execution_count": 107,
   "metadata": {},
   "outputs": [],
   "source": [
    "import seaborn as sns\n",
    "from matplotlib import pyplot as plt"
   ]
  },
  {
   "cell_type": "code",
   "execution_count": 118,
   "metadata": {},
   "outputs": [],
   "source": [
    "plt.style.use('seaborn-white')"
   ]
  },
  {
   "cell_type": "code",
   "execution_count": 119,
   "metadata": {},
   "outputs": [],
   "source": [
    "#Select columns date, high, adj close\n",
    "df_graph = df_gme[['High', 'Adj Close']]"
   ]
  },
  {
   "cell_type": "code",
   "execution_count": 121,
   "metadata": {},
   "outputs": [
    {
     "data": {
      "image/png": "[encoded data removed]",
      "text/plain": [
       "<Figure size 432x288 with 1 Axes>"
      ]
     },
     "metadata": {},
     "output_type": "display_data"
    }
   ],
   "source": [
    "sns.lineplot(data = df_graph ).set_title('GME seaborn-white');"
   ]
  },
  {
   "cell_type": "code",
   "execution_count": 81,
   "metadata": {},
   "outputs": [],
   "source": [
    "df_aapl = web.DataReader('AAPL', 'yahoo', start='2010-01-01', end='2021-05-31')"
   ]
  },
  {
   "cell_type": "code",
   "execution_count": 82,
   "metadata": {},
   "outputs": [
    {
     "data": {
      "text/html": [
       "<div>\n",
       "<style scoped>\n",
       "    .dataframe tbody tr th:only-of-type {\n",
       "        vertical-align: middle;\n",
       "    }\n",
       "\n",
       "    .dataframe tbody tr th {\n",
       "        vertical-align: top;\n",
       "    }\n",
       "\n",
       "    .dataframe thead th {\n",
       "        text-align: right;\n",
       "    }\n",
       "</style>\n",
       "<table border=\"1\" class=\"dataframe\">\n",
       "  <thead>\n",
       "    <tr style=\"text-align: right;\">\n",
       "      <th></th>\n",
       "      <th>High</th>\n",
       "      <th>Low</th>\n",
       "      <th>Open</th>\n",
       "      <th>Close</th>\n",
       "      <th>Volume</th>\n",
       "      <th>Adj Close</th>\n",
       "    </tr>\n",
       "    <tr>\n",
       "      <th>Date</th>\n",
       "      <th></th>\n",
       "      <th></th>\n",
       "      <th></th>\n",
       "      <th></th>\n",
       "      <th></th>\n",
       "      <th></th>\n",
       "    </tr>\n",
       "  </thead>\n",
       "  <tbody>\n",
       "    <tr>\n",
       "      <th>2010-01-04</th>\n",
       "      <td>7.660714</td>\n",
       "      <td>7.585000</td>\n",
       "      <td>7.622500</td>\n",
       "      <td>7.643214</td>\n",
       "      <td>493729600.0</td>\n",
       "      <td>6.572422</td>\n",
       "    </tr>\n",
       "    <tr>\n",
       "      <th>2010-01-05</th>\n",
       "      <td>7.699643</td>\n",
       "      <td>7.616071</td>\n",
       "      <td>7.664286</td>\n",
       "      <td>7.656429</td>\n",
       "      <td>601904800.0</td>\n",
       "      <td>6.583784</td>\n",
       "    </tr>\n",
       "    <tr>\n",
       "      <th>2010-01-06</th>\n",
       "      <td>7.686786</td>\n",
       "      <td>7.526786</td>\n",
       "      <td>7.656429</td>\n",
       "      <td>7.534643</td>\n",
       "      <td>552160000.0</td>\n",
       "      <td>6.479061</td>\n",
       "    </tr>\n",
       "    <tr>\n",
       "      <th>2010-01-07</th>\n",
       "      <td>7.571429</td>\n",
       "      <td>7.466071</td>\n",
       "      <td>7.562500</td>\n",
       "      <td>7.520714</td>\n",
       "      <td>477131200.0</td>\n",
       "      <td>6.467082</td>\n",
       "    </tr>\n",
       "    <tr>\n",
       "      <th>2010-01-08</th>\n",
       "      <td>7.571429</td>\n",
       "      <td>7.466429</td>\n",
       "      <td>7.510714</td>\n",
       "      <td>7.570714</td>\n",
       "      <td>447610800.0</td>\n",
       "      <td>6.510078</td>\n",
       "    </tr>\n",
       "  </tbody>\n",
       "</table>\n",
       "</div>"
      ],
      "text/plain": [
       "                High       Low      Open     Close       Volume  Adj Close\n",
       "Date                                                                      \n",
       "2010-01-04  7.660714  7.585000  7.622500  7.643214  493729600.0   6.572422\n",
       "2010-01-05  7.699643  7.616071  7.664286  7.656429  601904800.0   6.583784\n",
       "2010-01-06  7.686786  7.526786  7.656429  7.534643  552160000.0   6.479061\n",
       "2010-01-07  7.571429  7.466071  7.562500  7.520714  477131200.0   6.467082\n",
       "2010-01-08  7.571429  7.466429  7.510714  7.570714  447610800.0   6.510078"
      ]
     },
     "execution_count": 82,
     "metadata": {},
     "output_type": "execute_result"
    }
   ],
   "source": [
    "df_aapl.head()"
   ]
  },
  {
   "cell_type": "code",
   "execution_count": 122,
   "metadata": {},
   "outputs": [],
   "source": [
    "plt.style.use('seaborn-pastel')"
   ]
  },
  {
   "cell_type": "code",
   "execution_count": 124,
   "metadata": {},
   "outputs": [],
   "source": [
    "df_applegraph = df_aapl[['High','Adj Close']]"
   ]
  },
  {
   "cell_type": "code",
   "execution_count": 125,
   "metadata": {},
   "outputs": [
    {
     "data": {
      "text/plain": [
       "Text(0.5, 1.0, 'apple seaborn-pastel')"
      ]
     },
     "execution_count": 125,
     "metadata": {},
     "output_type": "execute_result"
    },
    {
     "data": {
      "image/png": "[encoded data removed]",
      "text/plain": [
       "<Figure size 432x288 with 1 Axes>"
      ]
     },
     "metadata": {},
     "output_type": "display_data"
    }
   ],
   "source": [
    "sns.lineplot(data = df_applegraph).set_title('apple seaborn-pastel')"
   ]
  },
  {
   "cell_type": "code",
   "execution_count": 83,
   "metadata": {},
   "outputs": [],
   "source": [
    "df_ebay = web.DataReader('EBAY', 'yahoo', start='2010-01-01', end='2021-05-31')"
   ]
  },
  {
   "cell_type": "code",
   "execution_count": 84,
   "metadata": {},
   "outputs": [
    {
     "data": {
      "text/html": [
       "<div>\n",
       "<style scoped>\n",
       "    .dataframe tbody tr th:only-of-type {\n",
       "        vertical-align: middle;\n",
       "    }\n",
       "\n",
       "    .dataframe tbody tr th {\n",
       "        vertical-align: top;\n",
       "    }\n",
       "\n",
       "    .dataframe thead th {\n",
       "        text-align: right;\n",
       "    }\n",
       "</style>\n",
       "<table border=\"1\" class=\"dataframe\">\n",
       "  <thead>\n",
       "    <tr style=\"text-align: right;\">\n",
       "      <th></th>\n",
       "      <th>High</th>\n",
       "      <th>Low</th>\n",
       "      <th>Open</th>\n",
       "      <th>Close</th>\n",
       "      <th>Volume</th>\n",
       "      <th>Adj Close</th>\n",
       "    </tr>\n",
       "    <tr>\n",
       "      <th>Date</th>\n",
       "      <th></th>\n",
       "      <th></th>\n",
       "      <th></th>\n",
       "      <th></th>\n",
       "      <th></th>\n",
       "      <th></th>\n",
       "    </tr>\n",
       "  </thead>\n",
       "  <tbody>\n",
       "    <tr>\n",
       "      <th>2010-01-04</th>\n",
       "      <td>10.092593</td>\n",
       "      <td>9.941077</td>\n",
       "      <td>9.983165</td>\n",
       "      <td>10.058923</td>\n",
       "      <td>22511650.0</td>\n",
       "      <td>9.708495</td>\n",
       "    </tr>\n",
       "    <tr>\n",
       "      <th>2010-01-05</th>\n",
       "      <td>10.058923</td>\n",
       "      <td>9.890572</td>\n",
       "      <td>10.012626</td>\n",
       "      <td>9.953704</td>\n",
       "      <td>26683193.0</td>\n",
       "      <td>9.606941</td>\n",
       "    </tr>\n",
       "    <tr>\n",
       "      <th>2010-01-06</th>\n",
       "      <td>10.016835</td>\n",
       "      <td>9.865320</td>\n",
       "      <td>9.945286</td>\n",
       "      <td>9.890572</td>\n",
       "      <td>26368610.0</td>\n",
       "      <td>9.546008</td>\n",
       "    </tr>\n",
       "    <tr>\n",
       "      <th>2010-01-07</th>\n",
       "      <td>9.886364</td>\n",
       "      <td>9.751684</td>\n",
       "      <td>9.886364</td>\n",
       "      <td>9.776936</td>\n",
       "      <td>25220052.0</td>\n",
       "      <td>9.436331</td>\n",
       "    </tr>\n",
       "    <tr>\n",
       "      <th>2010-01-08</th>\n",
       "      <td>9.949495</td>\n",
       "      <td>9.722222</td>\n",
       "      <td>9.760101</td>\n",
       "      <td>9.894781</td>\n",
       "      <td>30484080.0</td>\n",
       "      <td>9.550070</td>\n",
       "    </tr>\n",
       "  </tbody>\n",
       "</table>\n",
       "</div>"
      ],
      "text/plain": [
       "                 High       Low       Open      Close      Volume  Adj Close\n",
       "Date                                                                        \n",
       "2010-01-04  10.092593  9.941077   9.983165  10.058923  22511650.0   9.708495\n",
       "2010-01-05  10.058923  9.890572  10.012626   9.953704  26683193.0   9.606941\n",
       "2010-01-06  10.016835  9.865320   9.945286   9.890572  26368610.0   9.546008\n",
       "2010-01-07   9.886364  9.751684   9.886364   9.776936  25220052.0   9.436331\n",
       "2010-01-08   9.949495  9.722222   9.760101   9.894781  30484080.0   9.550070"
      ]
     },
     "execution_count": 84,
     "metadata": {},
     "output_type": "execute_result"
    }
   ],
   "source": [
    "df_ebay.head()"
   ]
  },
  {
   "cell_type": "code",
   "execution_count": 133,
   "metadata": {},
   "outputs": [],
   "source": [
    "plt.style.use('seaborn-darkgrid')"
   ]
  },
  {
   "cell_type": "code",
   "execution_count": 134,
   "metadata": {},
   "outputs": [],
   "source": [
    "df_ebaygraph = df_ebay[['High', 'Adj Close']]"
   ]
  },
  {
   "cell_type": "code",
   "execution_count": 135,
   "metadata": {},
   "outputs": [
    {
     "data": {
      "text/plain": [
       "Text(0.5, 1.0, 'ebay seaborn-darkgrid')"
      ]
     },
     "execution_count": 135,
     "metadata": {},
     "output_type": "execute_result"
    },
    {
     "data": {
      "image/png": "[encoded data removed]",
      "text/plain": [
       "<Figure size 460.8x316.8 with 1 Axes>"
      ]
     },
     "metadata": {},
     "output_type": "display_data"
    }
   ],
   "source": [
    "sns.lineplot(data = df_ebaygraph).set_title('ebay seaborn-darkgrid')"
   ]
  },
  {
   "cell_type": "code",
   "execution_count": 85,
   "metadata": {},
   "outputs": [],
   "source": [
    "df_msft = web.DataReader('MSFT', 'yahoo', start='2010-01-01', end='2021-05-31')"
   ]
  },
  {
   "cell_type": "code",
   "execution_count": 86,
   "metadata": {},
   "outputs": [
    {
     "data": {
      "text/html": [
       "<div>\n",
       "<style scoped>\n",
       "    .dataframe tbody tr th:only-of-type {\n",
       "        vertical-align: middle;\n",
       "    }\n",
       "\n",
       "    .dataframe tbody tr th {\n",
       "        vertical-align: top;\n",
       "    }\n",
       "\n",
       "    .dataframe thead th {\n",
       "        text-align: right;\n",
       "    }\n",
       "</style>\n",
       "<table border=\"1\" class=\"dataframe\">\n",
       "  <thead>\n",
       "    <tr style=\"text-align: right;\">\n",
       "      <th></th>\n",
       "      <th>High</th>\n",
       "      <th>Low</th>\n",
       "      <th>Open</th>\n",
       "      <th>Close</th>\n",
       "      <th>Volume</th>\n",
       "      <th>Adj Close</th>\n",
       "    </tr>\n",
       "    <tr>\n",
       "      <th>Date</th>\n",
       "      <th></th>\n",
       "      <th></th>\n",
       "      <th></th>\n",
       "      <th></th>\n",
       "      <th></th>\n",
       "      <th></th>\n",
       "    </tr>\n",
       "  </thead>\n",
       "  <tbody>\n",
       "    <tr>\n",
       "      <th>2010-01-04</th>\n",
       "      <td>31.100000</td>\n",
       "      <td>30.590000</td>\n",
       "      <td>30.620001</td>\n",
       "      <td>30.950001</td>\n",
       "      <td>38409100.0</td>\n",
       "      <td>23.994564</td>\n",
       "    </tr>\n",
       "    <tr>\n",
       "      <th>2010-01-05</th>\n",
       "      <td>31.100000</td>\n",
       "      <td>30.639999</td>\n",
       "      <td>30.850000</td>\n",
       "      <td>30.959999</td>\n",
       "      <td>49749600.0</td>\n",
       "      <td>24.002319</td>\n",
       "    </tr>\n",
       "    <tr>\n",
       "      <th>2010-01-06</th>\n",
       "      <td>31.080000</td>\n",
       "      <td>30.520000</td>\n",
       "      <td>30.879999</td>\n",
       "      <td>30.770000</td>\n",
       "      <td>58182400.0</td>\n",
       "      <td>23.855013</td>\n",
       "    </tr>\n",
       "    <tr>\n",
       "      <th>2010-01-07</th>\n",
       "      <td>30.700001</td>\n",
       "      <td>30.190001</td>\n",
       "      <td>30.629999</td>\n",
       "      <td>30.450001</td>\n",
       "      <td>50559700.0</td>\n",
       "      <td>23.606922</td>\n",
       "    </tr>\n",
       "    <tr>\n",
       "      <th>2010-01-08</th>\n",
       "      <td>30.879999</td>\n",
       "      <td>30.240000</td>\n",
       "      <td>30.280001</td>\n",
       "      <td>30.660000</td>\n",
       "      <td>51197400.0</td>\n",
       "      <td>23.769743</td>\n",
       "    </tr>\n",
       "  </tbody>\n",
       "</table>\n",
       "</div>"
      ],
      "text/plain": [
       "                 High        Low       Open      Close      Volume  Adj Close\n",
       "Date                                                                         \n",
       "2010-01-04  31.100000  30.590000  30.620001  30.950001  38409100.0  23.994564\n",
       "2010-01-05  31.100000  30.639999  30.850000  30.959999  49749600.0  24.002319\n",
       "2010-01-06  31.080000  30.520000  30.879999  30.770000  58182400.0  23.855013\n",
       "2010-01-07  30.700001  30.190001  30.629999  30.450001  50559700.0  23.606922\n",
       "2010-01-08  30.879999  30.240000  30.280001  30.660000  51197400.0  23.769743"
      ]
     },
     "execution_count": 86,
     "metadata": {},
     "output_type": "execute_result"
    }
   ],
   "source": [
    "df_msft.head()"
   ]
  },
  {
   "cell_type": "code",
   "execution_count": 136,
   "metadata": {},
   "outputs": [],
   "source": [
    "plt.style.use('grayscale')"
   ]
  },
  {
   "cell_type": "code",
   "execution_count": 137,
   "metadata": {},
   "outputs": [],
   "source": [
    "df_msftgraph = df_msft[['High','Adj Close']]"
   ]
  },
  {
   "cell_type": "code",
   "execution_count": 138,
   "metadata": {},
   "outputs": [
    {
     "data": {
      "text/plain": [
       "Text(0.5, 1.0, 'Microsoft grayscale')"
      ]
     },
     "execution_count": 138,
     "metadata": {},
     "output_type": "execute_result"
    },
    {
     "data": {
      "image/png": "[encoded data removed]",
      "text/plain": [
       "<Figure size 460.8x316.8 with 1 Axes>"
      ]
     },
     "metadata": {},
     "output_type": "display_data"
    }
   ],
   "source": [
    "sns.lineplot(data = df_msftgraph).set_title('Microsoft grayscale')"
   ]
  },
  {
   "cell_type": "code",
   "execution_count": null,
   "metadata": {},
   "outputs": [],
   "source": []
  }
 ],
 "metadata": {
  "kernelspec": {
   "display_name": "Python 3",
   "language": "python",
   "name": "python3"
  },
  "language_info": {
   "codemirror_mode": {
    "name": "ipython",
    "version": 3
   },
   "file_extension": ".py",
   "mimetype": "text/x-python",
   "name": "python",
   "nbconvert_exporter": "python",
   "pygments_lexer": "ipython3",
   "version": "3.8.5"
  }
 },
 "nbformat": 4,
 "nbformat_minor": 4
}
