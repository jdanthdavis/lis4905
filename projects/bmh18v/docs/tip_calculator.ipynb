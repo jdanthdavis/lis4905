{
 "cells": [
  {
   "cell_type": "markdown",
   "metadata": {},
   "source": [
    "### Tip Calculator\n",
    "\n",
    "**Developer:** Bryan Humphries\n",
    "\n",
    "**Course:** LIS 4905_sum21\n",
    "\n",
    "**Semester:** Summer 2021\n",
    "\n",
    "**Program requirements:**\n",
    "\n",
    "    1. Must use float data type for user input except, \"Party Number\"\n",
    "    2. Must round calculations to two decimal places.\n",
    "    3. Must format currency with dollar sign, and two decimal places."
   ]
  },
  {
   "cell_type": "code",
   "execution_count": 1,
   "metadata": {},
   "outputs": [
    {
     "name": "stdout",
     "output_type": "stream",
     "text": [
      "\n",
      "User Input:\n",
      "Cost of meal: 1000\n",
      "Tax percent: 10\n",
      "Tip percent: 20\n",
      "Party number: 4\n"
     ]
    }
   ],
   "source": [
    "print(\"\\nUser Input:\")\n",
    "meal_cost = float(input(\"Cost of meal: \"))\n",
    "tax_percent = float(input(\"Tax percent: \"))\n",
    "tip_percent = float(input(\"Tip percent: \"))\n",
    "people_num = int(input(\"Party number: \"))"
   ]
  },
  {
   "cell_type": "code",
   "execution_count": 2,
   "metadata": {},
   "outputs": [],
   "source": [
    "# Calculate tax, tip and total amount\n",
    "tax_amount = round(meal_cost * (tax_percent / 100), 2) #convert to percentage\n",
    "due_amount = round(meal_cost + tax_amount, 2)\n",
    "tip_amount = round((due_amount) * (tip_percent / 100),\n",
    "                    2) # percentage of cost + tax\n",
    "total = round(meal_cost + tax_amount + tip_amount, 2)\n",
    "split = round(total / people_num, 2)\n"
   ]
  },
  {
   "cell_type": "code",
   "execution_count": 3,
   "metadata": {},
   "outputs": [
    {
     "name": "stdout",
     "output_type": "stream",
     "text": [
      "\n",
      "Program Output:\n",
      "Subtotal:\t $1,000.00\n",
      "Tax:\t\t $100.00\n",
      "Amount Due:\t $1,100.00\n",
      "Gratuity:\t $220.00\n",
      "Total:\t\t $1,320.00\n",
      "Split (4):\t $330.00\n"
     ]
    }
   ],
   "source": [
    "# Display results\n",
    "print(\"\\nProgram Output:\")\n",
    "print(\"Subtotal:\\t\",\"${0:,.2f}\".format(meal_cost))\n",
    "print(\"Tax:\\t\\t\",\"${0:,.2f}\".format(tax_amount))\n",
    "print(\"Amount Due:\\t\",\"${0:,.2f}\".format(due_amount))\n",
    "print(\"Gratuity:\\t\",\"${0:,.2f}\".format(tip_amount))\n",
    "print(\"Total:\\t\\t\",\"${0:,.2f}\".format(total))\n",
    "print(\"Split \" + \"(\" + str(people_num) + \"):\\t\",\"${0:,.2f}\".format(split))"
   ]
  }
 ],
 "metadata": {
  "kernelspec": {
   "display_name": "Python 3",
   "language": "python",
   "name": "python3"
  },
  "language_info": {
   "codemirror_mode": {
    "name": "ipython",
    "version": 3
   },
   "file_extension": ".py",
   "mimetype": "text/x-python",
   "name": "python",
   "nbconvert_exporter": "python",
   "pygments_lexer": "ipython3",
   "version": "3.8.5"
  }
 },
 "nbformat": 4,
 "nbformat_minor": 4
}
